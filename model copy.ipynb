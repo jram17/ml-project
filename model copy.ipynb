{
 "cells": [
  {
   "cell_type": "code",
   "execution_count": 1,
   "metadata": {},
   "outputs": [],
   "source": [
    "import numpy as np\n",
    "import pandas as pd\n",
    "from sklearn.metrics import accuracy_score\n",
    "from sklearn.model_selection import train_test_split\n",
    "from CountVectorizer import CountVectorizer\n",
    "\n",
    "from MultinomialNB import MultinomialNaiveBayes\n"
   ]
  },
  {
   "cell_type": "code",
   "execution_count": 2,
   "metadata": {},
   "outputs": [
    {
     "ename": "",
     "evalue": "",
     "output_type": "error",
     "traceback": [
      "\u001b[1;31mThe Kernel crashed while executing code in the current cell or a previous cell. \n",
      "\u001b[1;31mPlease review the code in the cell(s) to identify a possible cause of the failure. \n",
      "\u001b[1;31mClick <a href='https://aka.ms/vscodeJupyterKernelCrash'>here</a> for more info. \n",
      "\u001b[1;31mView Jupyter <a href='command:jupyter.viewOutput'>log</a> for further details."
     ]
    }
   ],
   "source": [
    "vectorizer = CountVectorizer()\n",
    "mnb = MultinomialNaiveBayes()"
   ]
  },
  {
   "cell_type": "code",
   "execution_count": 3,
   "metadata": {},
   "outputs": [],
   "source": [
    "df2 = pd.read_csv(\"datasets/dataset2.csv\", encoding='ISO-8859-1')\n",
    "df2 = df2[[\"text\", \"sentiment\"]]\n",
    "\n",
    "df3 = pd.read_csv(\"datasets/dataset3.csv\", encoding='ISO-8859-1')\n",
    "df3 = df3[[\"text\", \"sentiment\"]]\n",
    "\n",
    "df4 = pd.read_csv(\"datasets/dataset4.csv\", encoding='ISO-8859-1')\n",
    "df4 = df4[[\"text\", \"sentiment\"]]\n",
    "\n",
    "df5 = pd.read_csv(\"datasets/dataset5.csv\", encoding='ISO-8859-1')\n",
    "df5 = df5[[\"text\", \"sentiment\"]]\n",
    "\n",
    "df_test = pd.read_csv(\"test.csv\", encoding='ISO-8859-1')[[\"text\", \"sentiment\"]]\n",
    "\n",
    "df_combined = pd.concat([df2, df3, df4, df5, df_test], ignore_index=True)\n",
    "df_combined = df_combined.sample(frac=1, random_state=42).reset_index(drop=True)\n",
    "\n",
    "df_combined['text'] = df_combined['text'].fillna(\"\").astype(str)\n",
    "df_combined['sentiment'] = df_combined['sentiment'].str.lower()\n",
    "df_combined = df_combined.dropna(subset=['sentiment'])\n",
    "\n",
    "split_index = 0.7\n",
    "split_point = int(split_index * len(df_combined))\n",
    "\n",
    "x_train_vec = (vectorizer.fit_transform(df_combined['text'][:split_point]))\n",
    "x_test_vec = (vectorizer.transform(df_combined['text'][split_point:]))\n",
    "y_train = df_combined['sentiment'][:split_point]\n",
    "y_test = df_combined['sentiment'][split_point:]"
   ]
  },
  {
   "cell_type": "code",
   "execution_count": null,
   "metadata": {},
   "outputs": [],
   "source": [
    "mnb.fit(x_train_vec, y_train)"
   ]
  },
  {
   "cell_type": "code",
   "execution_count": null,
   "metadata": {},
   "outputs": [],
   "source": [
    "predictions = mnb.predict(x_test_vec)\n",
    "# predictions=mnb.predict_proba(x_train_vec)"
   ]
  },
  {
   "cell_type": "code",
   "execution_count": null,
   "metadata": {},
   "outputs": [],
   "source": [
    "print(f\"Multinomial Naive Bayes classification accuracy: {accuracy_score(y_test, predictions)*100} %\")"
   ]
  },
  {
   "cell_type": "code",
   "execution_count": null,
   "metadata": {},
   "outputs": [],
   "source": [
    "def predict_sentiment(sentence):\n",
    "    sentence_vectorized = vectorizer.transform([sentence])\n",
    "    prediction = mnb.predict_proba(sentence_vectorized)\n",
    "    sortPredictions = dict(sorted(prediction[0].items(), key=lambda item: item[1]))\n",
    "    keylist =list(sortPredictions.keys())\n",
    "    valuelist = list(sortPredictions.values())\n",
    "    sentiment = { -1: \"negative\", 0: \"neutral\", 1: \"positive\" }\n",
    "    return f'the sentiment is \"{sentiment[keylist[-1]]}\" with the score \"{valuelist[keylist[-1]]}\"'\n"
   ]
  },
  {
   "cell_type": "code",
   "execution_count": null,
   "metadata": {},
   "outputs": [],
   "source": [
    "print(predict_sentiment(\"Her enthusiastic and confident attitude, combined with her creative ideas and diligent work, made her accomplished and inspirational. She remained determined and optimistic, always showing compassion and generosity to others, which made her truly admirable.\"))"
   ]
  },
  {
   "cell_type": "code",
   "execution_count": null,
   "metadata": {},
   "outputs": [],
   "source": []
  }
 ],
 "metadata": {
  "kernelspec": {
   "display_name": "Python 3",
   "language": "python",
   "name": "python3"
  },
  "language_info": {
   "codemirror_mode": {
    "name": "ipython",
    "version": 3
   },
   "file_extension": ".py",
   "mimetype": "text/x-python",
   "name": "python",
   "nbconvert_exporter": "python",
   "pygments_lexer": "ipython3",
   "version": "3.12.6"
  }
 },
 "nbformat": 4,
 "nbformat_minor": 2
}
